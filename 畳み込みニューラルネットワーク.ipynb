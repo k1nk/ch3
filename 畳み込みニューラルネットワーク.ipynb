{
 "cells": [
  {
   "cell_type": "markdown",
   "metadata": {},
   "source": [
    "# 畳み込みニューラルネットワーク"
   ]
  },
  {
   "cell_type": "markdown",
   "metadata": {},
   "source": [
    "## 学習済みデータを使った予測"
   ]
  },
  {
   "cell_type": "markdown",
   "metadata": {},
   "source": [
    "### モジュールの読み込み"
   ]
  },
  {
   "cell_type": "code",
   "execution_count": null,
   "metadata": {},
   "outputs": [],
   "source": [
    "from __future__ import print_function\n",
    "import argparse\n",
    "import datetime\n",
    "import json\n",
    "import multiprocessing\n",
    "import random\n",
    "import sys\n",
    "import threading\n",
    "import time\n",
    "\n",
    "import numpy as np\n",
    "from PIL import Image\n",
    "\n",
    "import six\n",
    "#import six.moves.cPickle as pickle\n",
    "import cPickle as pickle\n",
    "from six.moves import queue\n",
    "\n",
    "import chainer\n",
    "import matplotlib.pyplot as plt\n",
    "import numpy as np\n",
    "import math\n",
    "import chainer.functions as F\n",
    "import chainer.links as L\n",
    "from chainer.links import caffe\n",
    "from matplotlib.ticker import *\n",
    "from chainer import serializers\n",
    "\n",
    "import os\n",
    "#sys.path.append(os.getcwd() + '/ch3')\n",
    "import nin\n",
    "import alex"
   ]
  },
  {
   "cell_type": "markdown",
   "metadata": {},
   "source": [
    "### モデルの読み込み"
   ]
  },
  {
   "cell_type": "markdown",
   "metadata": {},
   "source": [
    "モデルを読み込みます"
   ]
  },
  {
   "cell_type": "code",
   "execution_count": null,
   "metadata": {},
   "outputs": [],
   "source": [
    "model = alex.Alex()"
   ]
  },
  {
   "cell_type": "code",
   "execution_count": null,
   "metadata": {},
   "outputs": [],
   "source": [
    "serializers.load_npz(\"result_alex/model_iter_15000\", model)\n",
    "model.to_cpu()"
   ]
  },
  {
   "cell_type": "markdown",
   "metadata": {},
   "source": [
    "### 画像の読み込み"
   ]
  },
  {
   "cell_type": "markdown",
   "metadata": {},
   "source": [
    "判定する画像を読み込む関数を作成します。\n",
    "* 入力画像のサイズ（256×256）をモデルの入力サイズ（227×227）へ変換します。\n",
    "* 画像の数値を０~２５５を０~１の範囲に変換します。"
   ]
  },
  {
   "cell_type": "code",
   "execution_count": null,
   "metadata": {},
   "outputs": [],
   "source": [
    "model.insize"
   ]
  },
  {
   "cell_type": "code",
   "execution_count": null,
   "metadata": {},
   "outputs": [],
   "source": [
    "cropwidth = 256 - model.insize\n",
    "mean_image = np.load(\"mean.npy\")"
   ]
  },
  {
   "cell_type": "code",
   "execution_count": null,
   "metadata": {},
   "outputs": [],
   "source": [
    "def read_image(path, center=False, flip=False):\n",
    "  image = np.asarray(Image.open(path)).transpose(2, 0, 1)\n",
    "  if center:\n",
    "    top = left = cropwidth / 2\n",
    "  else:\n",
    "    top = random.randint(0, cropwidth - 1)\n",
    "    left = random.randint(0, cropwidth - 1)\n",
    "  bottom = model.insize + top\n",
    "  right = model.insize + left\n",
    "  image = image[:, top:bottom, left:right].astype(np.float32)\n",
    "  image -= mean_image[:, top:bottom, left:right]\n",
    "  image /= 255\n",
    "  if flip and random.randint(0, 1) == 0:\n",
    "    return image[:, :, ::-1]\n",
    "  else:\n",
    "    return image"
   ]
  },
  {
   "cell_type": "markdown",
   "metadata": {},
   "source": [
    "判定する画像を読み込み、chainer.Variableへ変換します。"
   ]
  },
  {
   "cell_type": "code",
   "execution_count": null,
   "metadata": {},
   "outputs": [],
   "source": [
    "img = read_image(\"what_is_this_1.jpg\",center=True)"
   ]
  },
  {
   "cell_type": "code",
   "execution_count": null,
   "metadata": {},
   "outputs": [],
   "source": [
    "x = np.ndarray((1, 3, model.insize, model.insize), dtype=np.float32)\n",
    "x[0]=img\n",
    "x = chainer.Variable(np.asarray(x))"
   ]
  },
  {
   "cell_type": "markdown",
   "metadata": {},
   "source": [
    "### 画像カテゴリの予測"
   ]
  },
  {
   "cell_type": "markdown",
   "metadata": {},
   "source": [
    "モデルと入力画像から予測を行います。"
   ]
  },
  {
   "cell_type": "code",
   "execution_count": null,
   "metadata": {},
   "outputs": [],
   "source": [
    "def predict_alex(net,x):\n",
    "    h = F.max_pooling_2d(F.local_response_normalization(\n",
    "            F.relu(net.conv1(x))), 3, stride=2)\n",
    "    h = F.max_pooling_2d(F.local_response_normalization(\n",
    "            F.relu(net.conv2(h))), 3, stride=2)\n",
    "    h = F.relu(net.conv3(h))\n",
    "    h = F.relu(net.conv4(h))\n",
    "    h = F.max_pooling_2d(F.relu(net.conv5(h)), 3, stride=2)\n",
    "    h = F.dropout(F.relu(net.fc6(h)))\n",
    "    h = F.dropout(F.relu(net.fc7(h)))\n",
    "    h = net.fc8(h)\n",
    "\n",
    "    return F.softmax(h)"
   ]
  },
  {
   "cell_type": "code",
   "execution_count": null,
   "metadata": {},
   "outputs": [],
   "source": [
    "with chainer.using_config('train', False):\n",
    "    with chainer.no_backprop_mode():\n",
    "        score = predict_alex(model,x)"
   ]
  },
  {
   "cell_type": "code",
   "execution_count": null,
   "metadata": {},
   "outputs": [],
   "source": [
    "categories = np.loadtxt(\"labels.txt\", str, delimiter=\"\\t\")"
   ]
  },
  {
   "cell_type": "code",
   "execution_count": null,
   "metadata": {
    "scrolled": true
   },
   "outputs": [],
   "source": [
    "top_k = 20\n",
    "prediction = zip(score.data[0].tolist(), categories)\n",
    "prediction.sort(cmp=lambda x, y: cmp(x[0], y[0]), reverse=True)\n",
    "for rank, (score, name) in enumerate(prediction[:top_k], start=1):\n",
    "    print('#%d | %s | %4.1f%%' % (rank, name, score * 100))"
   ]
  },
  {
   "cell_type": "code",
   "execution_count": null,
   "metadata": {},
   "outputs": [],
   "source": [
    "categories"
   ]
  },
  {
   "cell_type": "markdown",
   "metadata": {},
   "source": [
    "## numpyの基礎"
   ]
  },
  {
   "cell_type": "markdown",
   "metadata": {},
   "source": [
    "ニューラルネットワークのプログラミングには、numpyによる計算が多く登場します。今回の授業に関連するものについて、簡単に補足します。"
   ]
  },
  {
   "cell_type": "markdown",
   "metadata": {},
   "source": [
    "### モジュールのインポート\n",
    "\n",
    "numpyを使うにには、最初にモジュールをインポートする必要があります。"
   ]
  },
  {
   "cell_type": "code",
   "execution_count": null,
   "metadata": {},
   "outputs": [],
   "source": [
    "import numpy as np"
   ]
  },
  {
   "cell_type": "markdown",
   "metadata": {},
   "source": [
    "### 配列の作成\n",
    "\n",
    "配列は、ndarrayとよばれるオブジェクトで表現します。ndarrayはpythonのリストから作成します。"
   ]
  },
  {
   "cell_type": "code",
   "execution_count": null,
   "metadata": {},
   "outputs": [],
   "source": [
    "listA = [[0,1,2],[3,4,5],[6,7,8]]\n",
    "listA"
   ]
  },
  {
   "cell_type": "markdown",
   "metadata": {},
   "source": [
    "リストから配列を作成"
   ]
  },
  {
   "cell_type": "code",
   "execution_count": null,
   "metadata": {},
   "outputs": [],
   "source": [
    "arrayA = np.array(listA)\n",
    "arrayA"
   ]
  },
  {
   "cell_type": "markdown",
   "metadata": {},
   "source": [
    "このように書いても同じです。"
   ]
  },
  {
   "cell_type": "code",
   "execution_count": null,
   "metadata": {},
   "outputs": [],
   "source": [
    "arrayA = np.array([[0,1,2],[3,4,5],[6,7,8]])\n",
    "arrayA"
   ]
  },
  {
   "cell_type": "markdown",
   "metadata": {},
   "source": [
    "配列が数列の場合(np.arange)\n",
    "\n",
    "10から始まって、20未満の、2つとびの数列から配列を作成"
   ]
  },
  {
   "cell_type": "code",
   "execution_count": null,
   "metadata": {},
   "outputs": [],
   "source": [
    "arrayB = np.arange(10,20,2)\n",
    "arrayB"
   ]
  },
  {
   "cell_type": "markdown",
   "metadata": {},
   "source": [
    "配列の要素が０の場合(np.zeros)"
   ]
  },
  {
   "cell_type": "code",
   "execution_count": null,
   "metadata": {},
   "outputs": [],
   "source": [
    "arrayZ = np.zeros(5)\n",
    "arrayZ"
   ]
  },
  {
   "cell_type": "code",
   "execution_count": null,
   "metadata": {},
   "outputs": [],
   "source": [
    "arrayZ2 = np.zeros((2,3))\n",
    "arrayZ2"
   ]
  },
  {
   "cell_type": "markdown",
   "metadata": {},
   "source": [
    "### 配列の形状の変更\n",
    "\n",
    "reshapeメソッドで配列の形状を変更できます。"
   ]
  },
  {
   "cell_type": "code",
   "execution_count": null,
   "metadata": {},
   "outputs": [],
   "source": [
    "arrayC = np.arange(0,9)\n",
    "arrayC"
   ]
  },
  {
   "cell_type": "code",
   "execution_count": null,
   "metadata": {},
   "outputs": [],
   "source": [
    "arrayC = arrayC.reshape(3,3)\n",
    "arrayC"
   ]
  },
  {
   "cell_type": "code",
   "execution_count": null,
   "metadata": {},
   "outputs": [],
   "source": [
    "arrayD = np.array([0,1,2,3,4,5]).reshape(2,3)\n",
    "arrayD"
   ]
  },
  {
   "cell_type": "markdown",
   "metadata": {},
   "source": [
    "１０×１０の画像（赤、緑、青の３成分で構成されるもの）が４枚ある場合、どの次元がどの部分に該当するか注意する必要があります。処理系により異なることがあります。"
   ]
  },
  {
   "cell_type": "code",
   "execution_count": null,
   "metadata": {},
   "outputs": [],
   "source": [
    "arrayE = np.zeros(1200).reshape(4,3,10,10)\n",
    "arrayE"
   ]
  },
  {
   "cell_type": "markdown",
   "metadata": {},
   "source": [
    "### 配列の形状の確認(shape)\n",
    "\n",
    "先に作成した画像データの配列について、形状を確認してみましょう。"
   ]
  },
  {
   "cell_type": "code",
   "execution_count": null,
   "metadata": {},
   "outputs": [],
   "source": [
    "arrayE.shape"
   ]
  },
  {
   "cell_type": "markdown",
   "metadata": {},
   "source": [
    "### 配列のデータタイプ"
   ]
  },
  {
   "cell_type": "code",
   "execution_count": null,
   "metadata": {},
   "outputs": [],
   "source": [
    "arrayA = np.array([[0,1,2],[3,4,5],[6,7,8]])\n",
    "arrayA"
   ]
  },
  {
   "cell_type": "markdown",
   "metadata": {},
   "source": [
    "データタイプを調べる"
   ]
  },
  {
   "cell_type": "code",
   "execution_count": null,
   "metadata": {},
   "outputs": [],
   "source": [
    "arrayA.dtype"
   ]
  },
  {
   "cell_type": "markdown",
   "metadata": {},
   "source": [
    "データタイプを指定して配列を作成"
   ]
  },
  {
   "cell_type": "code",
   "execution_count": null,
   "metadata": {},
   "outputs": [],
   "source": [
    "arrayF = np.array([[0,1,2],[3,4,5],[6,7,8]],dtype='f')\n",
    "arrayF"
   ]
  },
  {
   "cell_type": "code",
   "execution_count": null,
   "metadata": {},
   "outputs": [],
   "source": [
    "arrayF.dtype"
   ]
  },
  {
   "cell_type": "markdown",
   "metadata": {},
   "source": [
    "## Alexnetの仕組み"
   ]
  },
  {
   "cell_type": "markdown",
   "metadata": {},
   "source": [
    "### alex.pyのソースコード"
   ]
  },
  {
   "cell_type": "code",
   "execution_count": null,
   "metadata": {},
   "outputs": [],
   "source": [
    "import numpy as np\n",
    "\n",
    "import chainer\n",
    "import chainer.functions as F\n",
    "from chainer import initializers\n",
    "import chainer.links as L\n",
    "\n",
    "\n",
    "class Alex(chainer.Chain):\n",
    "\n",
    "    \"\"\"Single-GPU AlexNet without partition toward the channel axis.\"\"\"\n",
    "\n",
    "    insize = 227\n",
    "\n",
    "    def __init__(self):\n",
    "        super(Alex, self).__init__()\n",
    "        with self.init_scope():\n",
    "            self.conv1 = L.Convolution2D(None,  96, 11, stride=4)\n",
    "            self.conv2 = L.Convolution2D(None, 256,  5, pad=2)\n",
    "            self.conv3 = L.Convolution2D(None, 384,  3, pad=1)\n",
    "            self.conv4 = L.Convolution2D(None, 384,  3, pad=1)\n",
    "            self.conv5 = L.Convolution2D(None, 256,  3, pad=1)\n",
    "            self.fc6 = L.Linear(None, 4096)\n",
    "            self.fc7 = L.Linear(None, 4096)\n",
    "            self.fc8 = L.Linear(None, 1000)\n",
    "\n",
    "    def __call__(self, x, t):\n",
    "        h = F.max_pooling_2d(F.local_response_normalization(\n",
    "            F.relu(self.conv1(x))), 3, stride=2)\n",
    "        h = F.max_pooling_2d(F.local_response_normalization(\n",
    "            F.relu(self.conv2(h))), 3, stride=2)\n",
    "        h = F.relu(self.conv3(h))\n",
    "        h = F.relu(self.conv4(h))\n",
    "        h = F.max_pooling_2d(F.relu(self.conv5(h)), 3, stride=2)\n",
    "        h = F.dropout(F.relu(self.fc6(h)))\n",
    "        h = F.dropout(F.relu(self.fc7(h)))\n",
    "        h = self.fc8(h)\n",
    "\n",
    "        loss = F.softmax_cross_entropy(h, t)\n",
    "        chainer.report({'loss': loss, 'accuracy': F.accuracy(h, t)}, self)\n",
    "        return loss\n"
   ]
  },
  {
   "cell_type": "markdown",
   "metadata": {},
   "source": [
    "まず、a = Alex()\n",
    "として、インスタンスを生成した場合に、\\_\\_init\\_\\_メソッドが呼び出されます。そして、作成したインスタンスを、\n",
    "loss = a(x,t)\n",
    "として呼び出した時に、\\_\\_call\\_\\_メソッドが呼び出されます。"
   ]
  },
  {
   "cell_type": "markdown",
   "metadata": {},
   "source": [
    "### Convolution2D"
   ]
  },
  {
   "cell_type": "markdown",
   "metadata": {},
   "source": [
    "テスト用にRBGの三色からなる10×10の画像を１枚作成します。"
   ]
  },
  {
   "cell_type": "code",
   "execution_count": null,
   "metadata": {},
   "outputs": [],
   "source": [
    "import numpy as np\n",
    "x = np.arange(-1 * 3 * 10 * 10 / 2,1 * 3 * 10 * 10 / 2, dtype='f').reshape(1, 3, 10, 10) "
   ]
  },
  {
   "cell_type": "code",
   "execution_count": null,
   "metadata": {},
   "outputs": [],
   "source": [
    "x.shape"
   ]
  },
  {
   "cell_type": "code",
   "execution_count": null,
   "metadata": {},
   "outputs": [],
   "source": [
    "x"
   ]
  },
  {
   "cell_type": "markdown",
   "metadata": {},
   "source": [
    "入力チャネル数が3、出力チャネル数が7、カーネルの大きさは5×5の Convolution2Dのレイヤーを作成します。Lはchainer.linksを表します。chainer.linkは学習のためのウエイトを含みます。"
   ]
  },
  {
   "cell_type": "code",
   "execution_count": null,
   "metadata": {},
   "outputs": [],
   "source": [
    "import chainer.links as L\n",
    "l = L.Convolution2D(3, 7, 5) "
   ]
  },
  {
   "cell_type": "markdown",
   "metadata": {},
   "source": [
    "作成したレイヤーlに画像を入力して、出力データの形を確認します。"
   ]
  },
  {
   "cell_type": "code",
   "execution_count": null,
   "metadata": {},
   "outputs": [],
   "source": [
    "y = l(x)\n",
    "y.shape"
   ]
  },
  {
   "cell_type": "markdown",
   "metadata": {},
   "source": [
    "画像のサイズは６×６、チャネル数は７になっています。"
   ]
  },
  {
   "cell_type": "markdown",
   "metadata": {},
   "source": [
    "### Relu関数"
   ]
  },
  {
   "cell_type": "markdown",
   "metadata": {},
   "source": [
    "Relu関数の形をみてみましょう。"
   ]
  },
  {
   "cell_type": "code",
   "execution_count": null,
   "metadata": {},
   "outputs": [],
   "source": [
    "import numpy as np\n",
    "x_test = np.arange(-8, 8, 1, dtype='f')"
   ]
  },
  {
   "cell_type": "code",
   "execution_count": null,
   "metadata": {},
   "outputs": [],
   "source": [
    "x_test"
   ]
  },
  {
   "cell_type": "code",
   "execution_count": null,
   "metadata": {},
   "outputs": [],
   "source": [
    "import chainer.functions as F\n",
    "y_test = F.relu(x_test)"
   ]
  },
  {
   "cell_type": "code",
   "execution_count": null,
   "metadata": {},
   "outputs": [],
   "source": [
    "y_test.data"
   ]
  },
  {
   "cell_type": "code",
   "execution_count": null,
   "metadata": {},
   "outputs": [],
   "source": [
    "import matplotlib.pyplot as plt\n",
    "plt.plot(x_test, y_test.data, lw=5) # プロット\n",
    "plt.xlim(-8, 8)  # x軸の範囲\n",
    "plt.ylim(-2, 8) # y軸の範囲\n",
    "plt.grid() # グリッド描画\n",
    "plt.show() # グラフを出力"
   ]
  },
  {
   "cell_type": "code",
   "execution_count": null,
   "metadata": {},
   "outputs": [],
   "source": [
    "F.relu(x)"
   ]
  },
  {
   "cell_type": "markdown",
   "metadata": {},
   "source": [
    "### シグモイド関数"
   ]
  },
  {
   "cell_type": "markdown",
   "metadata": {},
   "source": [
    "シグモイド関数の形を見てみましょう。"
   ]
  },
  {
   "cell_type": "code",
   "execution_count": null,
   "metadata": {},
   "outputs": [],
   "source": [
    "import chainer.functions as F\n",
    "y_test = F.sigmoid(x_test)"
   ]
  },
  {
   "cell_type": "code",
   "execution_count": null,
   "metadata": {},
   "outputs": [],
   "source": [
    "import matplotlib.pyplot as plt\n",
    "plt.plot(x_test, y_test.data, lw=5) # プロット\n",
    "plt.xlim(-8, 8)  # x軸の範囲\n",
    "plt.ylim(0, 1) # y軸の範囲\n",
    "plt.grid() # グリッド描画\n",
    "plt.show() # グラフを出力"
   ]
  },
  {
   "cell_type": "markdown",
   "metadata": {},
   "source": [
    "シグモイド関数の特徴は、関数の範囲が０から１までということです。また、グラフをみると判りますが、入力される値が非常に大きい場合、あるいは、非常に小さい場合には、シグモイド関数の傾きは非常に小さくなります。したがって、シグモイド関数の前の層から出力される値がそのような場合には、前の層の値が変化しても、シグモイド関数から出力される値の変化は非常に小さくなります。\n",
    "\n",
    "ReLU関数の場合には、前の層から出力される値がプラスであれば、後の層に信号の変化がそのまま伝達されるのに対して、シグモイド関数の場合には、信号の変化を有効に後の層へ伝えることができる入力信号の値の範囲がReLUよりも狭いと言えます。\n",
    "\n",
    "また、ReLU関数の場合には、信号が伝わる場合には、その傾きが１であるため、信号の変化がそのまま後の層に伝わります。標準的なシグモイド関数の場合、その傾きの最大値は０．２５です。したがって、前の層の出力が１変化しても、後の層の信号の変化が最大でもその４分の１に弱められます。そのため、シグモイド関数をつかって複数の階層をつなげていくと、入力層に近い層のウエイトを変化させても、出力層へ出力される値の変化がほどんどなくなってしまいます。これを勾配の消失といいます。\n",
    "\n",
    "このような問題があるため、シグモイド関数は中間層でなく、出力層の活性化関数として、最終的に出力される値を０から１の範囲に調整するために用いられます。"
   ]
  },
  {
   "cell_type": "markdown",
   "metadata": {},
   "source": [
    "## max_pooling_2d"
   ]
  },
  {
   "cell_type": "code",
   "execution_count": null,
   "metadata": {},
   "outputs": [],
   "source": [
    "x.shape"
   ]
  },
  {
   "cell_type": "markdown",
   "metadata": {},
   "source": [
    "画像の大きさは１０×１０です。フィルタの大きさが３×３ ストライドが１のmax_pooling_2dをかけます。"
   ]
  },
  {
   "cell_type": "code",
   "execution_count": null,
   "metadata": {},
   "outputs": [],
   "source": [
    "mx = F.max_pooling_2d(x,3,stride=1)"
   ]
  },
  {
   "cell_type": "code",
   "execution_count": null,
   "metadata": {},
   "outputs": [],
   "source": [
    "mx.shape"
   ]
  },
  {
   "cell_type": "markdown",
   "metadata": {},
   "source": [
    "画像の大きさは８×８となっています。"
   ]
  },
  {
   "cell_type": "code",
   "execution_count": null,
   "metadata": {},
   "outputs": [],
   "source": [
    "x_test2 = np.array([[1,1,2,4,],[5,6,7,8],[3,2,0,1],[1,2,3,4]], dtype='f').reshape(1,1,4,4)"
   ]
  },
  {
   "cell_type": "code",
   "execution_count": null,
   "metadata": {},
   "outputs": [],
   "source": [
    "x_test2"
   ]
  },
  {
   "cell_type": "code",
   "execution_count": null,
   "metadata": {},
   "outputs": [],
   "source": [
    "y_test2 = F.max_pooling_2d(x_test2,2,stride=2)"
   ]
  },
  {
   "cell_type": "code",
   "execution_count": null,
   "metadata": {},
   "outputs": [],
   "source": [
    "y_test2.data"
   ]
  },
  {
   "cell_type": "markdown",
   "metadata": {},
   "source": [
    "### dropout"
   ]
  },
  {
   "cell_type": "markdown",
   "metadata": {},
   "source": [
    "学習中に一定の確率ratioでランダムに入力要素を振るい落とします。そして残った要素を$\\frac{1}{ratio}$倍します。学習中でない場合には、単に入力された値をそのまま返します。"
   ]
  },
  {
   "cell_type": "markdown",
   "metadata": {},
   "source": [
    "ドロップアウトを行うことにより、学習時にネットワークの自由度を強制的に小さくして汎化性能を上げ、過学習を避けることができます。"
   ]
  },
  {
   "cell_type": "code",
   "execution_count": null,
   "metadata": {
    "scrolled": true
   },
   "outputs": [],
   "source": [
    "x"
   ]
  },
  {
   "cell_type": "code",
   "execution_count": null,
   "metadata": {},
   "outputs": [],
   "source": [
    "F.dropout(x) #学習中の場合"
   ]
  },
  {
   "cell_type": "code",
   "execution_count": null,
   "metadata": {},
   "outputs": [],
   "source": [
    "#学習中でない場合　入力された値をそのまま返す\n",
    "import chainer\n",
    "with chainer.using_config('train', False):\n",
    "    y = F.dropout(x)"
   ]
  },
  {
   "cell_type": "code",
   "execution_count": null,
   "metadata": {},
   "outputs": [],
   "source": [
    "y"
   ]
  },
  {
   "cell_type": "markdown",
   "metadata": {},
   "source": [
    "### 全結合層 (fully-connected layer)\n",
    "\n",
    "<img src=\"fullyconnected3.png\">"
   ]
  },
  {
   "cell_type": "markdown",
   "metadata": {},
   "source": [
    "入力データを作成します"
   ]
  },
  {
   "cell_type": "code",
   "execution_count": null,
   "metadata": {},
   "outputs": [],
   "source": [
    "x_test3 = np.array([[0, 1, 2, 3, 4]], np.float32)"
   ]
  },
  {
   "cell_type": "code",
   "execution_count": null,
   "metadata": {},
   "outputs": [],
   "source": [
    "x_test3.shape"
   ]
  },
  {
   "cell_type": "markdown",
   "metadata": {},
   "source": [
    "入力のサイズが５、出力のサイズが１０の全結合層を作成します。"
   ]
  },
  {
   "cell_type": "code",
   "execution_count": null,
   "metadata": {},
   "outputs": [],
   "source": [
    "l = L.Linear(5, 10)"
   ]
  },
  {
   "cell_type": "code",
   "execution_count": null,
   "metadata": {},
   "outputs": [],
   "source": [
    "y_test3 = l(x_test3)\n",
    "y_test3.shape"
   ]
  },
  {
   "cell_type": "code",
   "execution_count": null,
   "metadata": {},
   "outputs": [],
   "source": [
    "y_test3"
   ]
  },
  {
   "cell_type": "markdown",
   "metadata": {},
   "source": [
    "### chainer.functions.softmax_cross_entropy"
   ]
  },
  {
   "cell_type": "markdown",
   "metadata": {},
   "source": [
    "たとえは、[犬,猫,魚,鳥]という４つのカテゴリ（ラベル０～３）がある場合\n",
    "\n",
    "２つの画像をネットワークにみせて、それぞれのカテゴリである確率の対数値(正規化されていない)が、[-1, 0, 1, 2]、[2, 0, 1, -1]と計算された。"
   ]
  },
  {
   "cell_type": "code",
   "execution_count": null,
   "metadata": {},
   "outputs": [],
   "source": [
    "x_test4 = np.array([[-1, 0, 1, 2], [2, 0, 1, -1]]).astype(np.float32)\n",
    "x_test4"
   ]
  },
  {
   "cell_type": "markdown",
   "metadata": {},
   "source": [
    "実際の答え（教師データ）は、それぞれ、鳥（ラベル３）、犬（ラベル０）であった。"
   ]
  },
  {
   "cell_type": "code",
   "execution_count": null,
   "metadata": {},
   "outputs": [],
   "source": [
    "t_test4 = np.array([3, 0]).astype(np.int32)\n",
    "t_test4"
   ]
  },
  {
   "cell_type": "markdown",
   "metadata": {},
   "source": [
    "softmax_cross_entropyにより誤差を計算します。"
   ]
  },
  {
   "cell_type": "code",
   "execution_count": null,
   "metadata": {},
   "outputs": [],
   "source": [
    "loss_test4 = F.softmax_cross_entropy(x_test4, t_test4)\n",
    "loss_test4"
   ]
  },
  {
   "cell_type": "markdown",
   "metadata": {},
   "source": [
    "別のより訓練されたネットワークの答えは[-1, -1, -1, 2]、[2, -1, -1, -1]であった。"
   ]
  },
  {
   "cell_type": "code",
   "execution_count": null,
   "metadata": {},
   "outputs": [],
   "source": [
    "x_test4_2 = np.array([[-1, -1, -1, 2], [2, -1, -1, -1]]).astype(np.float32)\n",
    "x_test4_2"
   ]
  },
  {
   "cell_type": "code",
   "execution_count": null,
   "metadata": {},
   "outputs": [],
   "source": [
    "loss_test4_2 = F.softmax_cross_entropy(x_test4_2, t_test4)\n",
    "loss_test4_2"
   ]
  },
  {
   "cell_type": "markdown",
   "metadata": {},
   "source": [
    "最初の例より、誤差が少なくなっていることがわかります。"
   ]
  },
  {
   "cell_type": "code",
   "execution_count": null,
   "metadata": {},
   "outputs": [],
   "source": []
  }
 ],
 "metadata": {
  "kernelspec": {
   "display_name": "chenv",
   "language": "python",
   "name": "chenv"
  },
  "language_info": {
   "codemirror_mode": {
    "name": "ipython",
    "version": 2
   },
   "file_extension": ".py",
   "mimetype": "text/x-python",
   "name": "python",
   "nbconvert_exporter": "python",
   "pygments_lexer": "ipython2",
   "version": "2.7.15"
  }
 },
 "nbformat": 4,
 "nbformat_minor": 2
}
